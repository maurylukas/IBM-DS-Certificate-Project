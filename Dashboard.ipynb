{
    "cells": [
        {
            "cell_type": "code",
            "execution_count": null,
            "metadata": {},
            "outputs": [],
            "source": "# Import required libraries\nimport pandas as pd\nimport dash\nimport dash_html_components as html\nimport dash_core_components as dcc\nfrom dash.dependencies import Input, Output\nimport plotly.express as px\n\n# Read the airline data into pandas dataframe\nspacex_df = pd.read_csv(\"spacex_launch_dash.csv\")\nmax_payload = spacex_df['Payload Mass (kg)'].max()\nmin_payload = spacex_df['Payload Mass (kg)'].min()\nlaunch_sites = spacex_df['Launch Site'].unique()\n\n# Create a dash application\napp = dash.Dash(__name__)\n\n# Create an app layout\napp.layout = html.Div(children=[html.H1('SpaceX Launch Records Dashboard',\n                                        style={'textAlign': 'center', 'color': '#503D36',\n                                               'font-size': 40}),\n                                # TASK 1: Add a dropdown list to enable Launch Site selection\n                                # The default select value is for ALL sites\n                                dcc.Dropdown(id='site-dropdown',\n                                    options=[\n                                        {'label': 'All Sites', 'value': 'ALL'},\n                                        {'label': launch_sites[0], 'value': launch_sites[0]},\n                                        {'label': launch_sites[1], 'value': launch_sites[1]},\n                                        {'label': launch_sites[2], 'value': launch_sites[2]},\n                                        {'label': launch_sites[3], 'value': launch_sites[3]},\n                                    ],\n                                    value='ALL',\n                                    placeholder=\"Select a Launch Site here\",\n                                    searchable=True\n                                ),\n                                html.Br(),\n\n                                # TASK 2: Add a pie chart to show the total successful launches count for all sites\n                                # If a specific launch site was selected, show the Success vs. Failed counts for the site\n                                html.Div(dcc.Graph(id='success-pie-chart')),\n                                html.Br(),\n\n                                html.P(\"Payload range (Kg):\"),\n                                # TASK 3: Add a slider to select payload range\n                                dcc.RangeSlider(id='payload-slider',\n                                    min=0, max=10000, step=1000,\n                                    marks={0: '0',\n                                        10000: '10000'},\n                                    value=[min_payload, max_payload]\n                                ),\n\n                                # TASK 4: Add a scatter chart to show the correlation between payload and launch success\n                                html.Div(dcc.Graph(id='success-payload-scatter-chart')),\n                                ])\n\n# TASK 2:\n# Add a callback function for `site-dropdown` as input, `success-pie-chart` as output\n@app.callback(Output(component_id='success-pie-chart', component_property='figure'),\n              Input(component_id='site-dropdown', component_property='value'))\ndef get_pie_chart(entered_site):\n    if entered_site == 'ALL':\n        values='class'\n        names='Launch Site'\n        title='Launch Success Rate For All Sites'\n        filtered_df = spacex_df.groupby(['Launch Site'], as_index=False).mean()\n    else:\n        # return the outcomes in pie chart for a selected site\n        values='Total'\n        names='Outcome'\n        title='Launch Success Rate For ' + entered_site\n        filtered_df = spacex_df[spacex_df['Launch Site'] == entered_site]\n        filtered_df[names] = filtered_df['class'].apply(lambda x: 'Success' if (x == 1) else 'Failure')\n        filtered_df[values] = 1\n    return px.pie(filtered_df, values=values, names=names, title=title)\n\n\n# TASK 4:\n# Add a callback function for `site-dropdown` and `payload-slider` as inputs, `success-payload-scatter-chart` as output\n@app.callback(Output(component_id='success-payload-scatter-chart', component_property='figure'),\n              [Input(component_id='site-dropdown', component_property='value'),\n               Input(component_id=\"payload-slider\", component_property=\"value\")])\ndef get_scatter_chart(entered_site, slider):\n    if entered_site == 'ALL':\n        filtered_df = spacex_df[(slider[0] <= spacex_df['Payload Mass (kg)']) & (spacex_df['Payload Mass (kg)'] <= slider[1])]\n        title='Launch Success Rate For All Sites'\n    else:\n    # return the outcomes in pie chart for a selected site\n        filtered_df = filtered_df[filtered_df['Launch Site'] == entered_site]\n        filtered_df['Outcome'] = filtered_df['class'].apply(lambda x: 'Success' if (x == 1) else 'Failure')\n        filtered_df['Total'] = 1\n        title='Launch Success Rate For ' + entered_site\n    return px.scatter(filtered_df, x='Payload Mass (kg)', y='class', color='Booster Version Category', title=title)\n\n\n# Run the app\nif __name__ == '__main__':\n    app.run_server()\n"
        }
    ],
    "metadata": {
        "kernelspec": {
            "display_name": "Python 3.9",
            "language": "python",
            "name": "python3"
        },
        "language_info": {
            "codemirror_mode": {
                "name": "ipython",
                "version": 3
            },
            "file_extension": ".py",
            "mimetype": "text/x-python",
            "name": "python",
            "nbconvert_exporter": "python",
            "pygments_lexer": "ipython3",
            "version": "3.9.12"
        }
    },
    "nbformat": 4,
    "nbformat_minor": 1
}